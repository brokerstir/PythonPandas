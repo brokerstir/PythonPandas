{
  "nbformat": 4,
  "nbformat_minor": 0,
  "metadata": {
    "colab": {
      "name": "Python-Scatter-Plot-Example.ipynb",
      "version": "0.3.2",
      "views": {},
      "default_view": {},
      "provenance": [],
      "collapsed_sections": []
    },
    "kernelspec": {
      "name": "python3",
      "display_name": "Python 3"
    }
  },
  "cells": [
    {
      "metadata": {
        "id": "5BdGvXH1Abkz",
        "colab_type": "code",
        "colab": {
          "autoexec": {
            "startup": false,
            "wait_interval": 0
          }
        }
      },
      "cell_type": "code",
      "source": [
        "homeprice = [208500, 181500, 223500, 140000, 250000, 143000, 307000, 200000, 129900, 118000, 129500, 345000, 144000, 279500, 157000, 132000, 149000, 90000, 159000, 139000, 325300]"
      ],
      "execution_count": 0,
      "outputs": []
    },
    {
      "metadata": {
        "id": "mFRXNnFOAhFU",
        "colab_type": "code",
        "colab": {
          "autoexec": {
            "startup": false,
            "wait_interval": 0
          }
        }
      },
      "cell_type": "code",
      "source": [
        "livearea = [1710, 1262, 1786, 1717, 2198, 1362, 1694, 2090, 1774, 1077, 1040, 2324, 912, 1494, 1253, 854, 1004, 1296, 1114, 1339, 2376]"
      ],
      "execution_count": 0,
      "outputs": []
    },
    {
      "metadata": {
        "id": "oJR-WQdoAlFD",
        "colab_type": "code",
        "colab": {
          "autoexec": {
            "startup": false,
            "wait_interval": 0
          }
        }
      },
      "cell_type": "code",
      "source": [
        "# import the libraries\n",
        "import numpy as np\n",
        "import pandas as pd\n",
        "import matplotlib.pyplot as plt"
      ],
      "execution_count": 0,
      "outputs": []
    },
    {
      "metadata": {
        "id": "WtwE_ETcAtKI",
        "colab_type": "code",
        "colab": {
          "autoexec": {
            "startup": false,
            "wait_interval": 0
          }
        }
      },
      "cell_type": "code",
      "source": [
        "# convert lists to numpy arrays\n",
        "np_homeprice = np.array(homeprice)\n",
        "np_livearea = np.array(livearea)"
      ],
      "execution_count": 0,
      "outputs": []
    },
    {
      "metadata": {
        "id": "Ori6t47sA1Ou",
        "colab_type": "code",
        "colab": {
          "autoexec": {
            "startup": false,
            "wait_interval": 0
          },
          "base_uri": "https://localhost:8080/",
          "height": 377
        },
        "outputId": "f8d80b10-b7c3-460e-b1a3-ba1abc6f57ed",
        "executionInfo": {
          "status": "ok",
          "timestamp": 1527783843098,
          "user_tz": 300,
          "elapsed": 480,
          "user": {
            "displayName": "Robert Risk",
            "photoUrl": "//lh4.googleusercontent.com/-opU-dhLmFPU/AAAAAAAAAAI/AAAAAAAAF6g/o3dVSnoyHdE/s50-c-k-no/photo.jpg",
            "userId": "100603346594857489538"
          }
        }
      },
      "cell_type": "code",
      "source": [
        "# Set arguments for the x and y axis\n",
        "plt.scatter(np_livearea, np_homeprice)\n",
        "# Label x and y axis\n",
        "plt.xlabel('Living Area Square Footage')\n",
        "plt.ylabel('Sale Price of Home')\n",
        "\n",
        "# Give title to plot\n",
        "plt.title('Home Sale Price vs. Size of Living Areaa')\n",
        "\n",
        "# Display the plot\n",
        "plt.show()"
      ],
      "execution_count": 6,
      "outputs": [
        {
          "output_type": "display_data",
          "data": {
            "image/png": "[encoded data removed]",
            "text/plain": [
              "<matplotlib.figure.Figure at 0x7f0762cc9e80>"
            ]
          },
          "metadata": {
            "tags": []
          }
        }
      ]
    }
  ]
}